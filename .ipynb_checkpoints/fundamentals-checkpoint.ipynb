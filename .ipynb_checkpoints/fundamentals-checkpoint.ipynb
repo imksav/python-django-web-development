{
 "cells": [
  {
   "cell_type": "code",
   "execution_count": 3,
   "id": "62139374",
   "metadata": {},
   "outputs": [
    {
     "name": "stdout",
     "output_type": "stream",
     "text": [
      "Hello World\n"
     ]
    }
   ],
   "source": [
    "print('Hello World')"
   ]
  },
  {
   "cell_type": "code",
   "execution_count": 9,
   "id": "f341f82f",
   "metadata": {},
   "outputs": [
    {
     "data": {
      "text/plain": [
       "12.5625"
      ]
     },
     "execution_count": 9,
     "metadata": {},
     "output_type": "execute_result"
    }
   ],
   "source": [
    "tax = 12.5 / 100\n",
    "price = 100.50\n",
    "price * tax"
   ]
  },
  {
   "cell_type": "code",
   "execution_count": 8,
   "id": "014f6ad6",
   "metadata": {},
   "outputs": [
    {
     "data": {
      "text/plain": [
       "414.5625"
      ]
     },
     "execution_count": 8,
     "metadata": {},
     "output_type": "execute_result"
    }
   ],
   "source": [
    "price +_ # lastly printed value is assigned to the variable _"
   ]
  },
  {
   "cell_type": "code",
   "execution_count": 11,
   "id": "3da15138",
   "metadata": {},
   "outputs": [
    {
     "data": {
      "text/plain": [
       "12.562"
      ]
     },
     "execution_count": 11,
     "metadata": {},
     "output_type": "execute_result"
    }
   ],
   "source": [
    "round (_, 3) # round off the value to the 3 decimal place"
   ]
  },
  {
   "cell_type": "code",
   "execution_count": 14,
   "id": "ba7f007a",
   "metadata": {},
   "outputs": [
    {
     "data": {
      "text/plain": [
       "\"doesn't\""
      ]
     },
     "execution_count": 14,
     "metadata": {},
     "output_type": "execute_result"
    }
   ],
   "source": [
    "'doesn\\'t'\n",
    "\n",
    "\"doesn't\""
   ]
  },
  {
   "cell_type": "code",
   "execution_count": 15,
   "id": "80943767",
   "metadata": {},
   "outputs": [
    {
     "data": {
      "text/plain": [
       "'\"Yes,\" they are'"
      ]
     },
     "execution_count": 15,
     "metadata": {},
     "output_type": "execute_result"
    }
   ],
   "source": [
    "'\"Yes,\" they are'"
   ]
  },
  {
   "cell_type": "code",
   "execution_count": 1,
   "id": "97a7f8a7",
   "metadata": {},
   "outputs": [
    {
     "data": {
      "text/plain": [
       "'\"Yes,\" they are'"
      ]
     },
     "execution_count": 1,
     "metadata": {},
     "output_type": "execute_result"
    }
   ],
   "source": [
    "\"\\\"Yes,\\\" they are\""
   ]
  },
  {
   "cell_type": "code",
   "execution_count": 2,
   "id": "7fdceea4",
   "metadata": {},
   "outputs": [
    {
     "data": {
      "text/plain": [
       "'\"Isn\\'t,\" they said.'"
      ]
     },
     "execution_count": 2,
     "metadata": {},
     "output_type": "execute_result"
    }
   ],
   "source": [
    "'\"Isn\\'t,\" they said.'"
   ]
  },
  {
   "cell_type": "code",
   "execution_count": 3,
   "id": "f3601ed7",
   "metadata": {},
   "outputs": [
    {
     "data": {
      "text/plain": [
       "'Keshav\\nBhandari'"
      ]
     },
     "execution_count": 3,
     "metadata": {},
     "output_type": "execute_result"
    }
   ],
   "source": [
    "\"Keshav\\nBhandari\""
   ]
  },
  {
   "cell_type": "code",
   "execution_count": 4,
   "id": "67f3bf09",
   "metadata": {},
   "outputs": [
    {
     "name": "stdout",
     "output_type": "stream",
     "text": [
      "Keshav\n",
      "Bhandari\n"
     ]
    }
   ],
   "source": [
    "print(\"Keshav\\nBhandari\") # print() only can identify line break"
   ]
  },
  {
   "cell_type": "code",
   "execution_count": 5,
   "id": "aa45d367",
   "metadata": {},
   "outputs": [
    {
     "name": "stdout",
     "output_type": "stream",
     "text": [
      "C:\n",
      "ame\\imksav\n"
     ]
    }
   ],
   "source": [
    "print(\"C:\\name\\imksav\")"
   ]
  },
  {
   "cell_type": "code",
   "execution_count": 6,
   "id": "75c81344",
   "metadata": {},
   "outputs": [
    {
     "name": "stdout",
     "output_type": "stream",
     "text": [
      "C:\\name\\imksav\n"
     ]
    }
   ],
   "source": [
    "print(r\"C:\\name\\imksav\") # r should be used before the string starts to print the raw string"
   ]
  },
  {
   "cell_type": "code",
   "execution_count": 7,
   "id": "8f7e99cd",
   "metadata": {},
   "outputs": [
    {
     "name": "stdout",
     "output_type": "stream",
     "text": [
      "\n",
      "This is multiple line printing.\n",
      "S.N.  Name                Age\n",
      "1.    Keshav Bhandari     25\n",
      "2.    Sadikshya Poudel    13\n",
      "\n"
     ]
    }
   ],
   "source": [
    "print(\"\"\"\n",
    "This is multiple line printing.\n",
    "S.N.  Name                Age\n",
    "1.    Keshav Bhandari     25\n",
    "2.    Sadikshya Poudel    13\n",
    "\"\"\")"
   ]
  },
  {
   "cell_type": "code",
   "execution_count": 8,
   "id": "7279d546",
   "metadata": {},
   "outputs": [
    {
     "name": "stdout",
     "output_type": "stream",
     "text": [
      "This is multiple line printing.\n",
      "S.N.  Name                Age\n",
      "1.    Keshav Bhandari     25\n",
      "2.    Sadikshya Poudel    13\n",
      "\n"
     ]
    }
   ],
   "source": [
    "print(\"\"\"\\\n",
    "This is multiple line printing.\n",
    "S.N.  Name                Age\n",
    "1.    Keshav Bhandari     25\n",
    "2.    Sadikshya Poudel    13\n",
    "\"\"\")"
   ]
  },
  {
   "cell_type": "code",
   "execution_count": 10,
   "id": "f81dd5ab",
   "metadata": {},
   "outputs": [
    {
     "data": {
      "text/plain": [
       "'hehehuhu'"
      ]
     },
     "execution_count": 10,
     "metadata": {},
     "output_type": "execute_result"
    }
   ],
   "source": [
    "# use of + and * to string\n",
    "2*'he'+2*'hu'"
   ]
  },
  {
   "cell_type": "code",
   "execution_count": 11,
   "id": "7ff83958",
   "metadata": {},
   "outputs": [
    {
     "data": {
      "text/plain": [
       "'imksav'"
      ]
     },
     "execution_count": 11,
     "metadata": {},
     "output_type": "execute_result"
    }
   ],
   "source": [
    "'im' 'ksav' # this can be used to break long lines in code"
   ]
  },
  {
   "cell_type": "code",
   "execution_count": null,
   "id": "7436e71c",
   "metadata": {},
   "outputs": [],
   "source": [
    "# variable and string can't be concatenate"
   ]
  },
  {
   "cell_type": "code",
   "execution_count": 14,
   "id": "16a94f08",
   "metadata": {},
   "outputs": [
    {
     "data": {
      "text/plain": [
       "'dik'"
      ]
     },
     "execution_count": 14,
     "metadata": {},
     "output_type": "execute_result"
    }
   ],
   "source": [
    "name = 'Sadikshya Poudel'\n",
    "#counting for positive starts from 0 while 0 and -0 is same so negative counting starts from -1\n",
    "name[2] # third element\n",
    "name[-2] # second last element\n",
    "name[2:5] #elements from third position to sixth"
   ]
  },
  {
   "cell_type": "code",
   "execution_count": 24,
   "id": "dd4fd7c6",
   "metadata": {},
   "outputs": [
    {
     "name": "stdout",
     "output_type": "stream",
     "text": [
      "JPython\n",
      "Jython\n"
     ]
    }
   ],
   "source": [
    "word = 'Python'\n",
    "word[0:]\n",
    "print('J'+word[0:])\n",
    "print('J'+word[1:])"
   ]
  },
  {
   "cell_type": "markdown",
   "id": "70c71d53",
   "metadata": {},
   "source": [
    "# Lists in Python"
   ]
  },
  {
   "cell_type": "code",
   "execution_count": 37,
   "id": "0f0a378f",
   "metadata": {},
   "outputs": [
    {
     "data": {
      "text/plain": [
       "[1, 4, 9, 16, 25]"
      ]
     },
     "execution_count": 37,
     "metadata": {},
     "output_type": "execute_result"
    }
   ],
   "source": [
    "squares = [1,4,9,16,25]\n",
    "squares"
   ]
  },
  {
   "cell_type": "markdown",
   "id": "79ebdaf4",
   "metadata": {},
   "source": [
    "### Indexing and Slicing is available in List"
   ]
  },
  {
   "cell_type": "markdown",
   "id": "2a98b388",
   "metadata": {},
   "source": [
    "### Lists are mutable, i.e. values can be changed"
   ]
  },
  {
   "cell_type": "code",
   "execution_count": 38,
   "id": "2dbc3236",
   "metadata": {},
   "outputs": [
    {
     "data": {
      "text/plain": [
       "[1, 4, 9, 16, 25, 36, 49, 65]"
      ]
     },
     "execution_count": 38,
     "metadata": {},
     "output_type": "execute_result"
    }
   ],
   "source": [
    "squares += [36,49,65]\n",
    "squares"
   ]
  },
  {
   "cell_type": "code",
   "execution_count": 41,
   "id": "4882c665",
   "metadata": {},
   "outputs": [
    {
     "data": {
      "text/plain": [
       "[1, 4, 9, 16, 25, 36, 49, 64]"
      ]
     },
     "execution_count": 41,
     "metadata": {},
     "output_type": "execute_result"
    }
   ],
   "source": [
    "squares[7]=64\n",
    "squares"
   ]
  },
  {
   "cell_type": "markdown",
   "id": "e07ee19d",
   "metadata": {},
   "source": [
    "# Nested Lists"
   ]
  },
  {
   "cell_type": "code",
   "execution_count": 51,
   "id": "9a6776b8",
   "metadata": {},
   "outputs": [
    {
     "name": "stdout",
     "output_type": "stream",
     "text": [
      "[[1, 3, 5, 7, 9], [2, 4, 6, 8, 10]]\n",
      "[2, 4, 6, 8, 10]\n",
      "6\n"
     ]
    }
   ],
   "source": [
    "odd = [1,3,5,7,9]\n",
    "even = [2,4,6,8,10]\n",
    "number = [odd, even]\n",
    "print(number)\n",
    "print(number[1])\n",
    "print(number[1][2])"
   ]
  },
  {
   "cell_type": "markdown",
   "id": "41249e1c",
   "metadata": {},
   "source": [
    "# First Steps Towards Programming "
   ]
  },
  {
   "cell_type": "code",
   "execution_count": 56,
   "id": "90eb3142",
   "metadata": {},
   "outputs": [
    {
     "name": "stdout",
     "output_type": "stream",
     "text": [
      "0\n",
      "1\n",
      "1\n",
      "2\n",
      "3\n",
      "5\n",
      "8\n",
      "13\n",
      "21\n",
      "34\n"
     ]
    }
   ],
   "source": [
    "# fibonacci series\n",
    "a, b = 0, 1\n",
    "while a<50:\n",
    "    print(a)\n",
    "    a, b = b, a+b"
   ]
  },
  {
   "cell_type": "markdown",
   "id": "4b0cfe66",
   "metadata": {},
   "source": [
    "# More Control Flow Tools"
   ]
  },
  {
   "cell_type": "markdown",
   "id": "e096de65",
   "metadata": {},
   "source": [
    "## if statements"
   ]
  },
  {
   "cell_type": "code",
   "execution_count": 2,
   "id": "5501a10c",
   "metadata": {},
   "outputs": [
    {
     "name": "stdout",
     "output_type": "stream",
     "text": [
      "Enter an integer number:5\n",
      "Positive\n"
     ]
    }
   ],
   "source": [
    "x = int(input(\"Enter an integer number:\"))\n",
    "if x<0:\n",
    "    print(\"Negative\")\n",
    "elif x>0:\n",
    "    print(\"Positive\")\n",
    "else:\n",
    "    print(\"Zero\")"
   ]
  },
  {
   "cell_type": "markdown",
   "id": "59af42c9",
   "metadata": {},
   "source": [
    "## for statements"
   ]
  },
  {
   "cell_type": "code",
   "execution_count": 2,
   "id": "b6178507",
   "metadata": {},
   "outputs": [
    {
     "name": "stdout",
     "output_type": "stream",
     "text": [
      "inactive\n",
      "inactive\n"
     ]
    },
    {
     "data": {
      "text/plain": [
       "{'keshav': 'active', 'sadikshya': 'active', 'sofy': 'active'}"
      ]
     },
     "execution_count": 2,
     "metadata": {},
     "output_type": "execute_result"
    }
   ],
   "source": [
    "users = {'keshav':'active', 'sadikshya':'active', 'reba':'inactive', 'amisha':'inactive', 'sofy':'active'}\n",
    "users\n",
    "for key, value in users.copy().items():\n",
    "    if value == 'inactive':\n",
    "        print(users[key])\n",
    "        \n",
    "active_users = {}\n",
    "for key, value in users.items():\n",
    "    if value == 'active':\n",
    "        active_users[key] = value\n",
    "active_users"
   ]
  },
  {
   "cell_type": "markdown",
   "id": "1d6fb037",
   "metadata": {},
   "source": [
    "## range function"
   ]
  },
  {
   "cell_type": "code",
   "execution_count": 5,
   "id": "a1a4d1da",
   "metadata": {},
   "outputs": [
    {
     "name": "stdout",
     "output_type": "stream",
     "text": [
      "0\n",
      "1\n",
      "2\n",
      "3\n",
      "4\n"
     ]
    }
   ],
   "source": [
    "for i in range(5):\n",
    "    print(i)"
   ]
  },
  {
   "cell_type": "code",
   "execution_count": 7,
   "id": "67489af1",
   "metadata": {},
   "outputs": [
    {
     "data": {
      "text/plain": [
       "[5, 6, 7, 8, 9]"
      ]
     },
     "execution_count": 7,
     "metadata": {},
     "output_type": "execute_result"
    }
   ],
   "source": [
    "list(range(5,10))"
   ]
  },
  {
   "cell_type": "code",
   "execution_count": 9,
   "id": "2ff7834d",
   "metadata": {},
   "outputs": [
    {
     "data": {
      "text/plain": [
       "[5, 8, 11, 14, 17, 20, 23, 26, 29, 32, 35, 38, 41, 44, 47]"
      ]
     },
     "execution_count": 9,
     "metadata": {},
     "output_type": "execute_result"
    }
   ],
   "source": [
    "list(range(5,50,3))"
   ]
  },
  {
   "cell_type": "code",
   "execution_count": 12,
   "id": "26910c3a",
   "metadata": {},
   "outputs": [
    {
     "name": "stdout",
     "output_type": "stream",
     "text": [
      "0 a\n",
      "1 e\n",
      "2 i\n",
      "3 o\n",
      "4 u\n"
     ]
    }
   ],
   "source": [
    "letters = ['a', 'e', 'i', 'o', 'u']\n",
    "for l in range(len(letters)):\n",
    "    print(l, letters[l])"
   ]
  },
  {
   "cell_type": "code",
   "execution_count": 15,
   "id": "518c25ca",
   "metadata": {},
   "outputs": [
    {
     "data": {
      "text/plain": [
       "10"
      ]
     },
     "execution_count": 15,
     "metadata": {},
     "output_type": "execute_result"
    }
   ],
   "source": [
    "sum(range(100))\n",
    "sum(range(5))"
   ]
  },
  {
   "cell_type": "markdown",
   "id": "2041baa6",
   "metadata": {},
   "source": [
    "## break and continue"
   ]
  },
  {
   "cell_type": "code",
   "execution_count": 28,
   "id": "2893a3a5",
   "metadata": {},
   "outputs": [
    {
     "name": "stdout",
     "output_type": "stream",
     "text": [
      "From which number you want prime numbers:2\n",
      "To which number you want prime numbers:50\n",
      "2 is a prime number\n",
      "3 is a prime number\n",
      "4 * 2 = 8\n",
      "5 is a prime number\n",
      "6 * 2 = 12\n",
      "7 is a prime number\n",
      "8 * 2 = 16\n",
      "9 * 3 = 27\n",
      "10 * 2 = 20\n",
      "11 is a prime number\n",
      "12 * 2 = 24\n",
      "13 is a prime number\n",
      "14 * 2 = 28\n",
      "15 * 3 = 45\n",
      "16 * 2 = 32\n",
      "17 is a prime number\n",
      "18 * 2 = 36\n",
      "19 is a prime number\n",
      "20 * 2 = 40\n",
      "21 * 3 = 63\n",
      "22 * 2 = 44\n",
      "23 is a prime number\n",
      "24 * 2 = 48\n",
      "25 * 5 = 125\n",
      "26 * 2 = 52\n",
      "27 * 3 = 81\n",
      "28 * 2 = 56\n",
      "29 is a prime number\n",
      "30 * 2 = 60\n",
      "31 is a prime number\n",
      "32 * 2 = 64\n",
      "33 * 3 = 99\n",
      "34 * 2 = 68\n",
      "35 * 5 = 175\n",
      "36 * 2 = 72\n",
      "37 is a prime number\n",
      "38 * 2 = 76\n",
      "39 * 3 = 117\n",
      "40 * 2 = 80\n",
      "41 is a prime number\n",
      "42 * 2 = 84\n",
      "43 is a prime number\n",
      "44 * 2 = 88\n",
      "45 * 3 = 135\n",
      "46 * 2 = 92\n",
      "47 is a prime number\n",
      "48 * 2 = 96\n",
      "49 * 7 = 343\n"
     ]
    }
   ],
   "source": [
    "start = int(input(\"From which number you want prime numbers:\"))\n",
    "end = int(input(\"To which number you want prime numbers:\"))\n",
    "for i in range(start,end):\n",
    "    for j in range(2,i):\n",
    "        if i%j==0:\n",
    "            print(i,'*',j,'=',i*j)\n",
    "            break\n",
    "    else:\n",
    "        print(i, \"is a prime number\")"
   ]
  },
  {
   "cell_type": "code",
   "execution_count": 2,
   "id": "695e2f84",
   "metadata": {},
   "outputs": [
    {
     "name": "stdout",
     "output_type": "stream",
     "text": [
      "Found an even number 2\n",
      "Found an odd number 3\n",
      "Found an even number 4\n",
      "Found an odd number 5\n",
      "Found an even number 6\n",
      "Found an odd number 7\n",
      "Found an even number 8\n",
      "Found an odd number 9\n"
     ]
    }
   ],
   "source": [
    "for num in range(2, 10):\n",
    "    if num % 2 == 0:\n",
    "        print(\"Found an even number\", num)\n",
    "        continue\n",
    "    print(\"Found an odd number\", num)"
   ]
  },
  {
   "cell_type": "markdown",
   "id": "db1e34df",
   "metadata": {},
   "source": [
    "## Function define"
   ]
  },
  {
   "cell_type": "code",
   "execution_count": 6,
   "id": "babe92fe",
   "metadata": {},
   "outputs": [],
   "source": [
    "def ask_ok(prompt, retries=4, reminder='Please try again!'):\n",
    "    while True:\n",
    "        reply = input(prompt)\n",
    "        if reply in {'y', 'ye', 'yes'}:\n",
    "            return True\n",
    "        if reply in {'n', 'no', 'nop', 'nope'}:\n",
    "            return False\n",
    "        retries = retries - 1\n",
    "        if retries < 0:\n",
    "            raise ValueError('invalid user response')\n",
    "        print(reminder)"
   ]
  },
  {
   "cell_type": "code",
   "execution_count": 12,
   "id": "238ee284",
   "metadata": {},
   "outputs": [
    {
     "name": "stdout",
     "output_type": "stream",
     "text": [
      "Do you want to quit?n\n"
     ]
    },
    {
     "data": {
      "text/plain": [
       "False"
      ]
     },
     "execution_count": 12,
     "metadata": {},
     "output_type": "execute_result"
    }
   ],
   "source": [
    "ask_ok(\"Do you want to quit?\", 2)"
   ]
  },
  {
   "cell_type": "markdown",
   "id": "c382bd2a",
   "metadata": {},
   "source": [
    "## Keyword Arguments"
   ]
  },
  {
   "cell_type": "code",
   "execution_count": 13,
   "id": "1ae25c7e",
   "metadata": {},
   "outputs": [],
   "source": [
    "def parrot(voltage, state='a stiff', action='voom', type='Norwegian Blue'):\n",
    "    print(\"-- This parrot wouldn't\", action, end=' ')\n",
    "    print(\"if you put\", voltage, \"volts through it.\")\n",
    "    print(\"-- Lovely plumage, the\", type)\n",
    "    print(\"-- It's\", state, \"!\")"
   ]
  },
  {
   "cell_type": "code",
   "execution_count": 15,
   "id": "000e533f",
   "metadata": {},
   "outputs": [
    {
     "name": "stdout",
     "output_type": "stream",
     "text": [
      "-- This parrot wouldn't voom if you put 1000 volts through it.\n",
      "-- Lovely plumage, the Norwegian Blue\n",
      "-- It's a stiff !\n",
      "-- This parrot wouldn't voom if you put 1000 volts through it.\n",
      "-- Lovely plumage, the Norwegian Blue\n",
      "-- It's a stiff !\n",
      "-- This parrot wouldn't VOOOOOM if you put 1000000 volts through it.\n",
      "-- Lovely plumage, the Norwegian Blue\n",
      "-- It's a stiff !\n",
      "-- This parrot wouldn't VOOOOOM if you put 1000000 volts through it.\n",
      "-- Lovely plumage, the Norwegian Blue\n",
      "-- It's a stiff !\n",
      "-- This parrot wouldn't jump if you put a million volts through it.\n",
      "-- Lovely plumage, the Norwegian Blue\n",
      "-- It's bereft of life !\n",
      "-- This parrot wouldn't voom if you put a thousand volts through it.\n",
      "-- Lovely plumage, the Norwegian Blue\n",
      "-- It's pushing up the daisies !\n"
     ]
    }
   ],
   "source": [
    "parrot(1000)                                          # 1 positional argument\n",
    "parrot(voltage=1000)                                  # 1 keyword argument\n",
    "parrot(voltage=1000000, action='VOOOOOM')             # 2 keyword arguments\n",
    "parrot(action='VOOOOOM', voltage=1000000)             # 2 keyword arguments\n",
    "parrot('a million', 'bereft of life', 'jump')         # 3 positional arguments\n",
    "parrot('a thousand', state='pushing up the daisies')  # 1 positional, 1 keyword"
   ]
  },
  {
   "cell_type": "code",
   "execution_count": 16,
   "id": "3c4717f6",
   "metadata": {},
   "outputs": [
    {
     "ename": "SyntaxError",
     "evalue": "positional argument follows keyword argument (3425694748.py, line 2)",
     "output_type": "error",
     "traceback": [
      "\u001b[1;36m  Cell \u001b[1;32mIn[16], line 2\u001b[1;36m\u001b[0m\n\u001b[1;33m    parrot(voltage=5.0, 'dead')  # non-keyword argument after a keyword argument\u001b[0m\n\u001b[1;37m                              ^\u001b[0m\n\u001b[1;31mSyntaxError\u001b[0m\u001b[1;31m:\u001b[0m positional argument follows keyword argument\n"
     ]
    }
   ],
   "source": [
    "parrot()                     # required argument missing\n",
    "parrot(voltage=5.0, 'dead')  # non-keyword argument after a keyword argument\n",
    "parrot(110, voltage=220)     # duplicate value for the same argument\n",
    "parrot(actor='John Cleese')  # unknown keyword argument"
   ]
  },
  {
   "cell_type": "code",
   "execution_count": 22,
   "id": "da4f120f",
   "metadata": {},
   "outputs": [],
   "source": [
    "def cheeseshop(kind, *arguments, **keywords):\n",
    "    print(\"-- Do you have any\", kind, \"?\")\n",
    "    for arg in arguments:\n",
    "        print(arg)\n",
    "    print(\"-\" * 40)\n",
    "    for kw in keywords:\n",
    "        print(kw, \":\", keywords[kw])"
   ]
  },
  {
   "cell_type": "code",
   "execution_count": 23,
   "id": "7d936a8e",
   "metadata": {},
   "outputs": [
    {
     "name": "stdout",
     "output_type": "stream",
     "text": [
      "-- Do you have any Limburger ?\n",
      "One\n",
      "Two\n",
      "Three\n",
      "----------------------------------------\n",
      "shopkeeper : Michael Palin\n",
      "client : John Cleese\n",
      "sketch : Cheese Shop Sketch\n"
     ]
    }
   ],
   "source": [
    "cheeseshop(\"Limburger\", \"One\",\n",
    "           \"Two\",\n",
    "           \"Three\",\n",
    "           shopkeeper=\"Michael Palin\",\n",
    "           client=\"John Cleese\",\n",
    "           sketch=\"Cheese Shop Sketch\")"
   ]
  },
  {
   "cell_type": "code",
   "execution_count": 25,
   "id": "bb5649c5",
   "metadata": {},
   "outputs": [
    {
     "name": "stdout",
     "output_type": "stream",
     "text": [
      "-- This parrot wouldn't VOOM if you put four million volts through it. E's bleedin' demised !\n"
     ]
    }
   ],
   "source": [
    "def parrot(voltage, state='a stiff', action='voom'):\n",
    "    print(\"-- This parrot wouldn't\", action, end=' ')\n",
    "    print(\"if you put\", voltage, \"volts through it.\", end=' ')\n",
    "    print(\"E's\", state, \"!\")\n",
    "\n",
    "d = {\"voltage\": \"four million\", \"state\": \"bleedin' demised\", \"action\": \"VOOM\"} # as keywords, dict can be passed\n",
    "parrot(**d)"
   ]
  },
  {
   "cell_type": "code",
   "execution_count": 25,
   "id": "4ca77972",
   "metadata": {},
   "outputs": [
    {
     "name": "stdout",
     "output_type": "stream",
     "text": [
      "Not\n",
      "Not\n",
      "0\n",
      "2\n",
      "4\n"
     ]
    }
   ],
   "source": [
    "vec = [-4, -2, 0, 2, 4]\n",
    "for x in vec:\n",
    "    if x>=0:\n",
    "       print(x)\n",
    "    else:\n",
    "        print(\"Not\")"
   ]
  },
  {
   "cell_type": "code",
   "execution_count": 44,
   "id": "d62a7940",
   "metadata": {},
   "outputs": [
    {
     "name": "stdout",
     "output_type": "stream",
     "text": [
      "1\n",
      "5\n",
      "9\n",
      "2\n",
      "6\n",
      "10\n",
      "3\n",
      "7\n",
      "11\n",
      "4\n",
      "8\n",
      "12\n"
     ]
    }
   ],
   "source": [
    "matrix = [\n",
    "    [1, 2, 3, 4],\n",
    "    [5, 6, 7, 8],\n",
    "    [9, 10, 11, 12],\n",
    "]\n",
    "for i in range(4):\n",
    "    for row in matrix:\n",
    "        print(row[i])"
   ]
  },
  {
   "cell_type": "code",
   "execution_count": 65,
   "id": "2c18dacf",
   "metadata": {},
   "outputs": [
    {
     "data": {
      "text/plain": [
       "'42572654 YES votes  49.673%'"
      ]
     },
     "execution_count": 65,
     "metadata": {},
     "output_type": "execute_result"
    }
   ],
   "source": [
    "yes_votes = 42_572_654\n",
    "no_votes = 43_132_495\n",
    "percentage = yes_votes / (yes_votes + no_votes)\n",
    "'{:-8} YES votes  {:2.3%}'.format(yes_votes, percentage)"
   ]
  },
  {
   "cell_type": "code",
   "execution_count": 70,
   "id": "b0df92b7",
   "metadata": {},
   "outputs": [
    {
     "name": "stdout",
     "output_type": "stream",
     "text": [
      "Sjoerd     ==>       4127\n",
      "Jack       ==>       4098\n",
      "Dcab       ==>       7678\n"
     ]
    }
   ],
   "source": [
    "table = {'Sjoerd': 4127, 'Jack': 4098, 'Dcab': 7678}\n",
    "for name, phone in table.items():\n",
    "    print(f'{name:10} ==> {phone:10d}') # it is used to set the columns perfectly as it provides spaces"
   ]
  },
  {
   "cell_type": "code",
   "execution_count": 75,
   "id": "54108d66",
   "metadata": {},
   "outputs": [
    {
     "name": "stdout",
     "output_type": "stream",
     "text": [
      "My hovercraft is full of 'eels'.\n"
     ]
    }
   ],
   "source": [
    "animals = 'eels'\n",
    "print(f'My hovercraft is full of {animals!r}.') # it gives the result as it is assigned with type"
   ]
  },
  {
   "cell_type": "markdown",
   "id": "29b32f5e",
   "metadata": {},
   "source": [
    "# Classes"
   ]
  },
  {
   "cell_type": "markdown",
   "id": "c76a28ae",
   "metadata": {},
   "source": [
    "## Classes and Objects"
   ]
  },
  {
   "cell_type": "markdown",
   "id": "d9217eb6",
   "metadata": {},
   "source": [
    "### Class and Object\n",
    "1. Define a class named Rectangle that has attributes length and width. Write a method to calculate the area of the rectangle. Instantiate an object and print the area.\n",
    "\n",
    "2. Create a class Employee with attributes name and salary. Write a method to give a raise to the employee by a certain percentage. Instantiate an object, give the employee a raise, and print the updated salary.\n",
    "\n",
    "### Class Attributes and Instance Attributes\n",
    "3. Define a class Car with a class attribute number_of_wheels set to 4. The class should also have instance attributes make and model. Create two instances of the class and print the number_of_wheels, make, and model for both instances.\n",
    "\n",
    "### Methods\n",
    "4. Create a class Student with attributes name and grades (a list). Write methods to add a grade and to calculate the average grade. Instantiate an object, add some grades, and print the average grade.\n",
    "\n",
    "5. Define a class BankAccount with attributes owner and balance. Write methods to deposit money, withdraw money, and check the balance. Instantiate an object and perform some transactions, printing the balance after each transaction.\n",
    "\n",
    "### Inheritance\n",
    "6. Create a base class Animal with a method speak. Create two derived classes Dog and Cat that inherit from Animal and override the speak method to return \"Woof\" and \"Meow\" respectively. Instantiate objects of both classes and call the speak method on them.\n",
    "\n",
    "7. Define a class Vehicle with attributes make and model, and a method drive that prints \"Driving the vehicle\". Create a derived class Truck that adds an attribute load_capacity and overrides the drive method to print \"Driving the truck\". Instantiate an object of Truck and call the drive method.\n",
    "\n",
    "### Polymorphism\n",
    "8. Create a function make_animal_speak that takes an object of type Animal and calls its speak method. Demonstrate polymorphism by passing instances of Dog and Cat to this function and printing the results.\n",
    "\n",
    "### Encapsulation\n",
    "9. Write a class Account with private attributes account_number and balance. Provide methods to get the account number, deposit money, and get the balance. Prevent direct access to the balance attribute.\n",
    "\n",
    "### Exception Handling\n",
    "10. Write a function divide_numbers that takes two numbers and returns their division. Use exception handling to catch and handle a division by zero error, printing an appropriate message if such an error occurs.\n",
    "\n",
    "11. Create a class FileHandler with methods to read from and write to a file. Use exception handling to manage cases where the file might not exist or the user does not have permission to read/write the file."
   ]
  },
  {
   "cell_type": "code",
   "execution_count": 109,
   "id": "e6bbf2d7",
   "metadata": {},
   "outputs": [
    {
     "name": "stdout",
     "output_type": "stream",
     "text": [
      "6\n"
     ]
    }
   ],
   "source": [
    "class Rectangle:\n",
    "    \n",
    "    def __init__(self, length, width):\n",
    "        self.length = length\n",
    "        self.width = width\n",
    "    \n",
    "    def calculate_area(self):\n",
    "        return self.length*self.width\n",
    "    \n",
    "    def area(l, w):\n",
    "        return l*w\n",
    "        \n",
    "r = Rectangle(2,3)\n",
    "print(r.calculate_area())"
   ]
  },
  {
   "cell_type": "code",
   "execution_count": 132,
   "id": "592c7668",
   "metadata": {},
   "outputs": [
    {
     "name": "stdout",
     "output_type": "stream",
     "text": [
      "Keshav salary was 270 which increased by 10% and receive 297.0 now.\n",
      "270\n"
     ]
    }
   ],
   "source": [
    "class Employee:\n",
    "    \n",
    "    def __init__(self, name, salary):\n",
    "        self.name = name\n",
    "        self.salary = salary\n",
    "    \n",
    "    def raised(self, per):\n",
    "        return \"{0} salary was {1} which increased by {2}% and receive {3} now.\".format(self.name, self.salary, per, self.salary+per/100*self.salary)\n",
    "    \n",
    "e = Employee(\"Keshav\", 270)\n",
    "print(e.raised(10))\n",
    "print(e.salary)"
   ]
  },
  {
   "cell_type": "code",
   "execution_count": 138,
   "id": "ce22b524",
   "metadata": {},
   "outputs": [
    {
     "name": "stdout",
     "output_type": "stream",
     "text": [
      "Car 1: Toyota Don 4\n",
      "Car 2: Honda Son 4\n"
     ]
    }
   ],
   "source": [
    "class Car:\n",
    "    number_of_wheels = 4\n",
    "    \n",
    "    def __init__(self, make, model):\n",
    "        self.make = make\n",
    "        self.model = model\n",
    "        \n",
    "car1 = Car(\"Toyota\", \"Don\")\n",
    "car2 = Car(\"Honda\", \"Son\")\n",
    "print(\"Car 1:\", car1.make, car1.model, car1.number_of_wheels)\n",
    "print(\"Car 2:\", car2.make, car2.model, car2.number_of_wheels)"
   ]
  },
  {
   "cell_type": "code",
   "execution_count": 158,
   "id": "58dda1d9",
   "metadata": {},
   "outputs": [
    {
     "name": "stdout",
     "output_type": "stream",
     "text": [
      "83.8\n"
     ]
    }
   ],
   "source": [
    "class Student:\n",
    "    def __init__(self, name):\n",
    "        self.name = name\n",
    "        self.grades = []\n",
    "    \n",
    "    def add_grade(self, grade):\n",
    "        self.grades.append(grade)\n",
    "    \n",
    "    def average_grade(self):\n",
    "        average = sum(self.grades)/len(self.grades)\n",
    "        return average\n",
    "\n",
    "s = Student(\"Keshav\")\n",
    "\n",
    "s.add_grade(65)\n",
    "s.add_grade(75)\n",
    "s.add_grade(85)\n",
    "s.add_grade(95)\n",
    "s.add_grade(99)\n",
    "print(s.average_grade())"
   ]
  },
  {
   "cell_type": "code",
   "execution_count": 196,
   "id": "7c27d795",
   "metadata": {},
   "outputs": [
    {
     "name": "stdout",
     "output_type": "stream",
     "text": [
      "Keshav have balance: 500\n",
      "Balance after deposit is 700\n",
      "Balance after withdraw is 600\n",
      "Balance after withdraw is 500\n",
      "Balance after withdraw is 0\n",
      "Insufficinet balance\n",
      "Balance after deposit is 200\n"
     ]
    }
   ],
   "source": [
    "class BankAccount:\n",
    "    def __init__(self, owner, balance=0):\n",
    "        self.owner = owner\n",
    "        self.balance = balance\n",
    "    \n",
    "    def display(self):\n",
    "        return \"{0} have balance: {1}\".format(self.owner, self.balance)\n",
    "    \n",
    "    def deposit(self, balance):\n",
    "        self.balance += balance\n",
    "        return \"Balance after deposit is {0}\".format(self.balance)\n",
    "    \n",
    "    def withdraw(self, balance):\n",
    "        if balance > self.balance:\n",
    "            return \"Insufficinet balance\"\n",
    "        self.balance -= balance\n",
    "        return \"Balance after withdraw is {0}\".format(self.balance)\n",
    "    \n",
    "    \n",
    "\n",
    "b = BankAccount(\"Keshav\", 500)\n",
    "print(b.display())\n",
    "print(b.deposit(200))\n",
    "print(b.withdraw(100))\n",
    "print(b.withdraw(100))\n",
    "print(b.withdraw(500))\n",
    "print(b.withdraw(100))\n",
    "print(b.deposit(200))"
   ]
  },
  {
   "cell_type": "code",
   "execution_count": 219,
   "id": "83560b93",
   "metadata": {},
   "outputs": [
    {
     "name": "stdout",
     "output_type": "stream",
     "text": [
      "Woof\n",
      "Meow\n"
     ]
    }
   ],
   "source": [
    "class Animal:\n",
    "    def speak(self):\n",
    "        pass\n",
    "        \n",
    "class Dog(Animal):\n",
    "    def speak(self):\n",
    "        return \"Woof\"\n",
    "\n",
    "class Cat:\n",
    "    def speak(self):\n",
    "        return \"Meow\"\n",
    "\n",
    "dog = Dog()\n",
    "cat = Cat()\n",
    "print(dog.speak())\n",
    "print(cat.speak())"
   ]
  },
  {
   "cell_type": "code",
   "execution_count": 233,
   "id": "530f959e",
   "metadata": {},
   "outputs": [
    {
     "data": {
      "text/plain": [
       "'Driving the truck'"
      ]
     },
     "execution_count": 233,
     "metadata": {},
     "output_type": "execute_result"
    }
   ],
   "source": [
    "class Vehicle:\n",
    "    def __init__(self, make, model):\n",
    "        self.make=make\n",
    "        self.model=model\n",
    "    \n",
    "    def drive(self):\n",
    "        return \"Driving the vehicle\"\n",
    "    \n",
    "class Truck(Vehicle):\n",
    "    def __init__(self, make, model, load_capacity):\n",
    "        super().__init__(make, model)\n",
    "        self.load_capacity=load_capacity\n",
    "    \n",
    "    def drive(self):\n",
    "        return \"Driving the truck\"\n",
    "\n",
    "t = Truck(\"Honda\", \"New-1\", 500)\n",
    "an example of polymorphism - the function can take any object that has a speak method, and it doesn’t care what class the object is an instance of.t.drive()\n",
    "# v = Vehicle(\"Ford\", \"Ford-1\")\n",
    "# v.drive()"
   ]
  },
  {
   "cell_type": "code",
   "execution_count": 286,
   "id": "d0522e27",
   "metadata": {},
   "outputs": [
    {
     "data": {
      "text/plain": [
       "'Cat Speaking'"
      ]
     },
     "execution_count": 286,
     "metadata": {},
     "output_type": "execute_result"
    }
   ],
   "source": [
    "# an example of polymorphism:\n",
    "# the function can take any object that has a speak method,\n",
    "# and it doesn’t care what class the object is an instance of.\n",
    "\n",
    "class Animal:\n",
    "    pass\n",
    "#     def __init__(self):\n",
    "#         pass\n",
    "    \n",
    "def make_animal_speak(animal):\n",
    "    return animal.speak()\n",
    "    \n",
    "class Dog(Animal):\n",
    "    def speak(self):\n",
    "        return \"Dog Speaking\"\n",
    "\n",
    "class Cat(Animal):\n",
    "    def speak(self):\n",
    "        return \"Cat Speaking\"\n",
    "\n",
    "dog = Dog()\n",
    "cat = Cat()\n",
    "make_animal_speak(dog)\n",
    "make_animal_speak(cat)"
   ]
  },
  {
   "cell_type": "code",
   "execution_count": 308,
   "id": "866e6158",
   "metadata": {},
   "outputs": [
    {
     "data": {
      "text/plain": [
       "'Account Number: A0000 has balance of 200'"
      ]
     },
     "execution_count": 308,
     "metadata": {},
     "output_type": "execute_result"
    }
   ],
   "source": [
    "class Account:\n",
    "    def __init__(self, acc_num, blnc):\n",
    "        self.__account_number = acc_num\n",
    "        self.__balance = blnc\n",
    "        \n",
    "    def get_acc_details(self):\n",
    "        return \"Account Number: {0} has balance of {1}\".format(self.__account_number, self.__balance)\n",
    "    \n",
    "    def deposit(self, blnc):\n",
    "        self.__balance += blnc\n",
    "        return self.__balance\n",
    "    \n",
    "    def withdraw(self, blnc):\n",
    "        if blnc > self.__balance:\n",
    "            return \"Insufficient balance\"\n",
    "        self.__balance -= blnc\n",
    "        return self.__balance\n",
    "    \n",
    "\n",
    "a1 = Account(\"A0000\", 500)\n",
    "a1.get_acc_details()\n",
    "a1.deposit(200)\n",
    "a1.withdraw(700)\n",
    "a1.withdraw(100)\n",
    "a1.deposit(200)\n",
    "a1.get_acc_details()"
   ]
  },
  {
   "cell_type": "code",
   "execution_count": 321,
   "id": "841fe9e9",
   "metadata": {},
   "outputs": [
    {
     "name": "stdout",
     "output_type": "stream",
     "text": [
      "2.5\n",
      "Cannot divide by zero\n"
     ]
    }
   ],
   "source": [
    "def divide_numbers(a, b):\n",
    "    try:\n",
    "        result = a/b\n",
    "        return result\n",
    "    except ZeroDivisionError:\n",
    "        return \"Cannot divide by zero\"\n",
    "    \n",
    "print(divide_numbers(5,2))\n",
    "print(divide_numbers(5,0))"
   ]
  },
  {
   "cell_type": "code",
   "execution_count": 372,
   "id": "588ecfd5",
   "metadata": {},
   "outputs": [
    {
     "name": "stdout",
     "output_type": "stream",
     "text": [
      "Keshav-1\n",
      "Keshav-1\n",
      "Keshav-1\n",
      "\n"
     ]
    }
   ],
   "source": [
    "class FileHandler:\n",
    "    def read_file(self, file_path):\n",
    "        try:\n",
    "            with open(file_path, 'r') as file:\n",
    "                return file.read()\n",
    "        except FileNotFoundError:\n",
    "            print(\"File not exist\")\n",
    "        except PermissionError:\n",
    "            print(\"Not permitted\")\n",
    "    \n",
    "    def write_file(self, file_path, data):\n",
    "        try:\n",
    "            with open(file_path, 'a') as file:\n",
    "                return file.write(data)\n",
    "        except FileNotFoundError:\n",
    "            print(\"File not exist to write\")\n",
    "        except PermissionError:\n",
    "            print(\"Not permitted\")\n",
    "\n",
    "fh = FileHandler()\n",
    "fh.write_file(\"me.txt\", \"Keshav-1\\n\")\n",
    "print(fh.read_file(\"me.txt\"))"
   ]
  },
  {
   "cell_type": "markdown",
   "id": "8bc96047",
   "metadata": {},
   "source": [
    "# Lambda, Map and Filter functions"
   ]
  },
  {
   "cell_type": "code",
   "execution_count": 392,
   "id": "1be3666a",
   "metadata": {},
   "outputs": [
    {
     "name": "stdout",
     "output_type": "stream",
     "text": [
      "42\n",
      "25\n",
      "[2, 4, 6, 8, 10]\n",
      "['HELLO', 'WORLD']\n",
      "[1, 3, 5, 7, 9]\n",
      "['apple', 'banana', 'cherry']\n"
     ]
    }
   ],
   "source": [
    "# Write a lambda function that multiplies two numbers and use it to multiply 6 by 7.\n",
    "# Write a lambda function that returns the square of a number and use it to square the number 5.\n",
    "\n",
    "multiply = lambda x, y: x * y\n",
    "print(multiply(6, 7))\n",
    "\n",
    "squared = lambda x: x**2\n",
    "print(squared(5))\n",
    "\n",
    "# Given a list of numbers [1, 2, 3, 4, 5], use map() to create a new list with each number doubled.\n",
    "# Use map() to convert a list of strings to uppercase. Example input: ['hello', 'world'].\n",
    "\n",
    "numbers = [1,2,3,4,5]\n",
    "doubled = list(map(lambda x: x*2, numbers))\n",
    "print(doubled)\n",
    "\n",
    "strings = ['hello', 'world']\n",
    "upper_case = list(map(lambda x: x.upper(), strings))\n",
    "print(upper_case)\n",
    "\n",
    "# Given a list of numbers [1, 2, 3, 4, 5, 6, 7, 8, 9, 10], use filter() to create a new list with only the odd numbers.\n",
    "# Use filter() to extract words from a list that are longer than 4 characters. Example input: ['apple', 'banana', 'cherry', 'date'].\n",
    "\n",
    "numbers = [1,2,3,4,5,6,7,8,9,10]\n",
    "odd = list(filter(lambda x: x%2==1, numbers))\n",
    "print(odd)\n",
    "\n",
    "strings = ['apple', 'banana', 'cherry', 'date']\n",
    "four = list(filter(lambda x: len(x)>4, strings))\n",
    "print(four)"
   ]
  },
  {
   "cell_type": "markdown",
   "id": "5575e32f",
   "metadata": {},
   "source": [
    "# SQL in Python"
   ]
  },
  {
   "cell_type": "code",
   "execution_count": 2,
   "id": "bfa0c914",
   "metadata": {},
   "outputs": [],
   "source": [
    "import sqlite3\n",
    "\n",
    "# Connect to SQLite database\n",
    "conn = sqlite3.connect('example.db')\n",
    "c = conn.cursor()\n",
    "\n",
    "# Create table\n",
    "c.execute('''CREATE TABLE IF NOT EXISTS students\n",
    "             (id INTEGER PRIMARY KEY, name TEXT, age INTEGER)''')\n",
    "\n",
    "# Commit and close\n",
    "conn.commit()\n",
    "conn.close()"
   ]
  },
  {
   "cell_type": "code",
   "execution_count": 397,
   "id": "5928c823",
   "metadata": {},
   "outputs": [],
   "source": [
    "conn = sqlite3.connect('example.db')\n",
    "c = conn.cursor()\n",
    "\n",
    "# Insert data\n",
    "c.execute(\"INSERT INTO students (name, age) VALUES ('Alice', 21)\")\n",
    "c.execute(\"INSERT INTO students (name, age) VALUES ('Bob', 22)\")\n",
    "\n",
    "# Commit and close\n",
    "conn.commit()\n",
    "conn.close()"
   ]
  },
  {
   "cell_type": "code",
   "execution_count": 399,
   "id": "52e18f22",
   "metadata": {},
   "outputs": [
    {
     "name": "stdout",
     "output_type": "stream",
     "text": [
      "(1, 'Alice', 21)\n",
      "(2, 'Bob', 22)\n",
      "(3, 'Alice', 21)\n",
      "(4, 'Bob', 22)\n"
     ]
    }
   ],
   "source": [
    "conn = sqlite3.connect('example.db')\n",
    "c = conn.cursor()\n",
    "\n",
    "# Retrieve data\n",
    "c.execute(\"SELECT * FROM students\")\n",
    "rows = c.fetchall()\n",
    "for row in rows:\n",
    "    print(row)\n",
    "\n",
    "# Close connection\n",
    "conn.close()"
   ]
  },
  {
   "cell_type": "code",
   "execution_count": 3,
   "id": "bedcf3a6",
   "metadata": {},
   "outputs": [],
   "source": [
    "conn = sqlite3.connect('example.db')\n",
    "c = conn.cursor()\n",
    "\n",
    "# Update data\n",
    "c.execute(\"UPDATE students SET age = 23 WHERE name = 'Alice'\")\n",
    "\n",
    "# Commit and close\n",
    "conn.commit()\n",
    "conn.close()"
   ]
  },
  {
   "cell_type": "code",
   "execution_count": 4,
   "id": "27915211",
   "metadata": {},
   "outputs": [],
   "source": [
    "conn = sqlite3.connect('example.db')\n",
    "c = conn.cursor()\n",
    "\n",
    "# Delete data\n",
    "c.execute(\"DELETE FROM students WHERE name = 'Bob'\")\n",
    "\n",
    "# Commit and close\n",
    "conn.commit()\n",
    "conn.close()"
   ]
  },
  {
   "cell_type": "code",
   "execution_count": 6,
   "id": "6e2f41eb",
   "metadata": {},
   "outputs": [
    {
     "name": "stdout",
     "output_type": "stream",
     "text": [
      "(1, 'Alice', 23)\n",
      "(3, 'Alice', 23)\n"
     ]
    }
   ],
   "source": [
    "conn = sqlite3.connect('example.db')\n",
    "c = conn.cursor()\n",
    "\n",
    "# Filter data\n",
    "c.execute(\"SELECT * FROM students WHERE age > 21\")\n",
    "rows = c.fetchall()\n",
    "for row in rows:\n",
    "    print(row)\n",
    "\n",
    "# Close connection\n",
    "conn.close()"
   ]
  },
  {
   "cell_type": "markdown",
   "id": "593e151a",
   "metadata": {},
   "source": [
    "# Introduction to Pandas"
   ]
  },
  {
   "cell_type": "code",
   "execution_count": 4,
   "id": "6600c02c",
   "metadata": {},
   "outputs": [
    {
     "name": "stdout",
     "output_type": "stream",
     "text": [
      "Defaulting to user installation because normal site-packages is not writeable\n",
      "Requirement already satisfied: pandas in c:\\programdata\\anaconda3\\lib\\site-packages (2.1.4)\n",
      "Requirement already satisfied: numpy<2,>=1.23.2 in c:\\programdata\\anaconda3\\lib\\site-packages (from pandas) (1.26.4)\n",
      "Requirement already satisfied: python-dateutil>=2.8.2 in c:\\programdata\\anaconda3\\lib\\site-packages (from pandas) (2.8.2)\n",
      "Requirement already satisfied: pytz>=2020.1 in c:\\programdata\\anaconda3\\lib\\site-packages (from pandas) (2023.3.post1)\n",
      "Requirement already satisfied: tzdata>=2022.1 in c:\\programdata\\anaconda3\\lib\\site-packages (from pandas) (2023.3)\n",
      "Requirement already satisfied: six>=1.5 in c:\\programdata\\anaconda3\\lib\\site-packages (from python-dateutil>=2.8.2->pandas) (1.16.0)\n",
      "Note: you may need to restart the kernel to use updated packages.\n"
     ]
    }
   ],
   "source": [
    "pip install pandas"
   ]
  },
  {
   "cell_type": "code",
   "execution_count": 6,
   "id": "07492a32",
   "metadata": {},
   "outputs": [
    {
     "name": "stdout",
     "output_type": "stream",
     "text": [
      "        Name  Age       City\n",
      "0     Keshav   25     Butwal\n",
      "1  Sadikshya   13    Khotang\n",
      "2       Sofy   13      Kavre\n",
      "3     Bishal   24    Syangja\n",
      "4      Gokul   28   Melamchi\n",
      "5      Shyam   27    Dhading\n",
      "6       Puru   34    baglung\n",
      "7       Selu   12  Taplejung\n",
      "        Name  Age       City\n",
      "0     Keshav   25     Butwal\n",
      "1  Sadikshya   13    Khotang\n",
      "2       Sofy   13      Kavre\n",
      "3     Bishal   24    Syangja\n",
      "4      Gokul   28   Melamchi\n",
      "5      Shyam   27    Dhading\n",
      "6       Puru   34    baglung\n",
      "7       Selu   12  Taplejung\n"
     ]
    }
   ],
   "source": [
    "import pandas as pd\n",
    "# create a simple dataframe\n",
    "data = {\n",
    "    'Name': ['Keshav', 'Sadikshya', 'Sofy', 'Bishal', 'Gokul', 'Shyam', 'Puru', 'Selu'],\n",
    "    'Age': [25,13,13,24,28,27,34,12],\n",
    "    'City': ['Butwal', 'Khotang', 'Kavre', 'Syangja', 'Melamchi', 'Dhading', 'baglung', 'Taplejung'],\n",
    "}\n",
    "df = pd.DataFrame(data)\n",
    "print(df)\n",
    "\n",
    "# write dataframe to csv\n",
    "df.to_csv('data.csv', index=False)\n",
    "\n",
    "# read csv file\n",
    "df = pd.read_csv('data.csv')\n",
    "print(df.head(10))"
   ]
  },
  {
   "cell_type": "code",
   "execution_count": 7,
   "id": "bd76575a",
   "metadata": {},
   "outputs": [
    {
     "data": {
      "text/plain": [
       "0       Keshav\n",
       "1    Sadikshya\n",
       "2         Sofy\n",
       "3       Bishal\n",
       "4        Gokul\n",
       "5        Shyam\n",
       "6         Puru\n",
       "7         Selu\n",
       "Name: Name, dtype: object"
      ]
     },
     "execution_count": 7,
     "metadata": {},
     "output_type": "execute_result"
    }
   ],
   "source": [
    "names = df['Name']\n",
    "names"
   ]
  },
  {
   "cell_type": "code",
   "execution_count": 8,
   "id": "c64e5a30",
   "metadata": {},
   "outputs": [
    {
     "data": {
      "text/html": [
       "<div>\n",
       "<style scoped>\n",
       "    .dataframe tbody tr th:only-of-type {\n",
       "        vertical-align: middle;\n",
       "    }\n",
       "\n",
       "    .dataframe tbody tr th {\n",
       "        vertical-align: top;\n",
       "    }\n",
       "\n",
       "    .dataframe thead th {\n",
       "        text-align: right;\n",
       "    }\n",
       "</style>\n",
       "<table border=\"1\" class=\"dataframe\">\n",
       "  <thead>\n",
       "    <tr style=\"text-align: right;\">\n",
       "      <th></th>\n",
       "      <th>Name</th>\n",
       "      <th>Age</th>\n",
       "      <th>City</th>\n",
       "    </tr>\n",
       "  </thead>\n",
       "  <tbody>\n",
       "    <tr>\n",
       "      <th>0</th>\n",
       "      <td>Keshav</td>\n",
       "      <td>25</td>\n",
       "      <td>Butwal</td>\n",
       "    </tr>\n",
       "    <tr>\n",
       "      <th>1</th>\n",
       "      <td>Sadikshya</td>\n",
       "      <td>13</td>\n",
       "      <td>Khotang</td>\n",
       "    </tr>\n",
       "    <tr>\n",
       "      <th>2</th>\n",
       "      <td>Sofy</td>\n",
       "      <td>13</td>\n",
       "      <td>Kavre</td>\n",
       "    </tr>\n",
       "    <tr>\n",
       "      <th>3</th>\n",
       "      <td>Bishal</td>\n",
       "      <td>24</td>\n",
       "      <td>Syangja</td>\n",
       "    </tr>\n",
       "    <tr>\n",
       "      <th>7</th>\n",
       "      <td>Selu</td>\n",
       "      <td>12</td>\n",
       "      <td>Taplejung</td>\n",
       "    </tr>\n",
       "  </tbody>\n",
       "</table>\n",
       "</div>"
      ],
      "text/plain": [
       "        Name  Age       City\n",
       "0     Keshav   25     Butwal\n",
       "1  Sadikshya   13    Khotang\n",
       "2       Sofy   13      Kavre\n",
       "3     Bishal   24    Syangja\n",
       "7       Selu   12  Taplejung"
      ]
     },
     "execution_count": 8,
     "metadata": {},
     "output_type": "execute_result"
    }
   ],
   "source": [
    "young_people = df[df['Age']<26]\n",
    "young_people"
   ]
  },
  {
   "cell_type": "code",
   "execution_count": 9,
   "id": "118f0181",
   "metadata": {},
   "outputs": [
    {
     "data": {
      "text/html": [
       "<div>\n",
       "<style scoped>\n",
       "    .dataframe tbody tr th:only-of-type {\n",
       "        vertical-align: middle;\n",
       "    }\n",
       "\n",
       "    .dataframe tbody tr th {\n",
       "        vertical-align: top;\n",
       "    }\n",
       "\n",
       "    .dataframe thead th {\n",
       "        text-align: right;\n",
       "    }\n",
       "</style>\n",
       "<table border=\"1\" class=\"dataframe\">\n",
       "  <thead>\n",
       "    <tr style=\"text-align: right;\">\n",
       "      <th></th>\n",
       "      <th>Name</th>\n",
       "      <th>Age</th>\n",
       "      <th>City</th>\n",
       "      <th>Gender</th>\n",
       "    </tr>\n",
       "  </thead>\n",
       "  <tbody>\n",
       "    <tr>\n",
       "      <th>0</th>\n",
       "      <td>Keshav</td>\n",
       "      <td>25</td>\n",
       "      <td>Butwal</td>\n",
       "      <td>nan</td>\n",
       "    </tr>\n",
       "    <tr>\n",
       "      <th>1</th>\n",
       "      <td>Sadikshya</td>\n",
       "      <td>13</td>\n",
       "      <td>Khotang</td>\n",
       "      <td>Female</td>\n",
       "    </tr>\n",
       "    <tr>\n",
       "      <th>2</th>\n",
       "      <td>Sofy</td>\n",
       "      <td>13</td>\n",
       "      <td>Kavre</td>\n",
       "      <td>nan</td>\n",
       "    </tr>\n",
       "    <tr>\n",
       "      <th>3</th>\n",
       "      <td>Bishal</td>\n",
       "      <td>24</td>\n",
       "      <td>Syangja</td>\n",
       "      <td>nan</td>\n",
       "    </tr>\n",
       "    <tr>\n",
       "      <th>4</th>\n",
       "      <td>Gokul</td>\n",
       "      <td>28</td>\n",
       "      <td>Melamchi</td>\n",
       "      <td>nan</td>\n",
       "    </tr>\n",
       "    <tr>\n",
       "      <th>5</th>\n",
       "      <td>Shyam</td>\n",
       "      <td>27</td>\n",
       "      <td>Dhading</td>\n",
       "      <td>nan</td>\n",
       "    </tr>\n",
       "    <tr>\n",
       "      <th>6</th>\n",
       "      <td>Puru</td>\n",
       "      <td>34</td>\n",
       "      <td>baglung</td>\n",
       "      <td>nan</td>\n",
       "    </tr>\n",
       "    <tr>\n",
       "      <th>7</th>\n",
       "      <td>Selu</td>\n",
       "      <td>12</td>\n",
       "      <td>Taplejung</td>\n",
       "      <td>nan</td>\n",
       "    </tr>\n",
       "  </tbody>\n",
       "</table>\n",
       "</div>"
      ],
      "text/plain": [
       "        Name  Age       City  Gender\n",
       "0     Keshav   25     Butwal     nan\n",
       "1  Sadikshya   13    Khotang  Female\n",
       "2       Sofy   13      Kavre     nan\n",
       "3     Bishal   24    Syangja     nan\n",
       "4      Gokul   28   Melamchi     nan\n",
       "5      Shyam   27    Dhading     nan\n",
       "6       Puru   34    baglung     nan\n",
       "7       Selu   12  Taplejung     nan"
      ]
     },
     "execution_count": 9,
     "metadata": {},
     "output_type": "execute_result"
    }
   ],
   "source": [
    "# where name matches data of that row changes\n",
    "df.loc[df['Name']=='Sadikshya', 'Gender']='Female'\n",
    "df"
   ]
  },
  {
   "cell_type": "code",
   "execution_count": 40,
   "id": "36bf31af",
   "metadata": {},
   "outputs": [
    {
     "data": {
      "text/html": [
       "<div>\n",
       "<style scoped>\n",
       "    .dataframe tbody tr th:only-of-type {\n",
       "        vertical-align: middle;\n",
       "    }\n",
       "\n",
       "    .dataframe tbody tr th {\n",
       "        vertical-align: top;\n",
       "    }\n",
       "\n",
       "    .dataframe thead th {\n",
       "        text-align: right;\n",
       "    }\n",
       "</style>\n",
       "<table border=\"1\" class=\"dataframe\">\n",
       "  <thead>\n",
       "    <tr style=\"text-align: right;\">\n",
       "      <th></th>\n",
       "      <th>Name</th>\n",
       "      <th>Age</th>\n",
       "      <th>City</th>\n",
       "      <th>Gender</th>\n",
       "    </tr>\n",
       "  </thead>\n",
       "  <tbody>\n",
       "    <tr>\n",
       "      <th>0</th>\n",
       "      <td>Keshav</td>\n",
       "      <td>25</td>\n",
       "      <td>Butwal</td>\n",
       "      <td>Male</td>\n",
       "    </tr>\n",
       "    <tr>\n",
       "      <th>1</th>\n",
       "      <td>Sadikshya</td>\n",
       "      <td>13</td>\n",
       "      <td>Khotang</td>\n",
       "      <td>Female</td>\n",
       "    </tr>\n",
       "    <tr>\n",
       "      <th>2</th>\n",
       "      <td>Sofy</td>\n",
       "      <td>13</td>\n",
       "      <td>Kavre</td>\n",
       "      <td>Female</td>\n",
       "    </tr>\n",
       "    <tr>\n",
       "      <th>3</th>\n",
       "      <td>Bishal</td>\n",
       "      <td>24</td>\n",
       "      <td>Syangja</td>\n",
       "      <td>Male</td>\n",
       "    </tr>\n",
       "    <tr>\n",
       "      <th>4</th>\n",
       "      <td>Gokul</td>\n",
       "      <td>28</td>\n",
       "      <td>Melamchi</td>\n",
       "      <td>Male</td>\n",
       "    </tr>\n",
       "    <tr>\n",
       "      <th>5</th>\n",
       "      <td>Shyam</td>\n",
       "      <td>27</td>\n",
       "      <td>Dhading</td>\n",
       "      <td>Male</td>\n",
       "    </tr>\n",
       "    <tr>\n",
       "      <th>6</th>\n",
       "      <td>Puru</td>\n",
       "      <td>34</td>\n",
       "      <td>baglung</td>\n",
       "      <td>Male</td>\n",
       "    </tr>\n",
       "    <tr>\n",
       "      <th>7</th>\n",
       "      <td>Selu</td>\n",
       "      <td>12</td>\n",
       "      <td>Taplejung</td>\n",
       "      <td>Female</td>\n",
       "    </tr>\n",
       "  </tbody>\n",
       "</table>\n",
       "</div>"
      ],
      "text/plain": [
       "        Name  Age       City  Gender\n",
       "0     Keshav   25     Butwal    Male\n",
       "1  Sadikshya   13    Khotang  Female\n",
       "2       Sofy   13      Kavre  Female\n",
       "3     Bishal   24    Syangja    Male\n",
       "4      Gokul   28   Melamchi    Male\n",
       "5      Shyam   27    Dhading    Male\n",
       "6       Puru   34    baglung    Male\n",
       "7       Selu   12  Taplejung  Female"
      ]
     },
     "execution_count": 40,
     "metadata": {},
     "output_type": "execute_result"
    }
   ],
   "source": [
    "df.loc[df['Age']<20, 'Gender']='Female'\n",
    "df"
   ]
  },
  {
   "cell_type": "code",
   "execution_count": 10,
   "id": "a8c2928e",
   "metadata": {},
   "outputs": [
    {
     "data": {
      "text/html": [
       "<div>\n",
       "<style scoped>\n",
       "    .dataframe tbody tr th:only-of-type {\n",
       "        vertical-align: middle;\n",
       "    }\n",
       "\n",
       "    .dataframe tbody tr th {\n",
       "        vertical-align: top;\n",
       "    }\n",
       "\n",
       "    .dataframe thead th {\n",
       "        text-align: right;\n",
       "    }\n",
       "</style>\n",
       "<table border=\"1\" class=\"dataframe\">\n",
       "  <thead>\n",
       "    <tr style=\"text-align: right;\">\n",
       "      <th></th>\n",
       "      <th>Name</th>\n",
       "      <th>Age</th>\n",
       "      <th>City</th>\n",
       "      <th>Gender</th>\n",
       "      <th>Role</th>\n",
       "    </tr>\n",
       "  </thead>\n",
       "  <tbody>\n",
       "    <tr>\n",
       "      <th>0</th>\n",
       "      <td>Keshav</td>\n",
       "      <td>25</td>\n",
       "      <td>Butwal</td>\n",
       "      <td>nan</td>\n",
       "      <td>Teacher</td>\n",
       "    </tr>\n",
       "    <tr>\n",
       "      <th>1</th>\n",
       "      <td>Sadikshya</td>\n",
       "      <td>13</td>\n",
       "      <td>Khotang</td>\n",
       "      <td>Female</td>\n",
       "      <td>Student</td>\n",
       "    </tr>\n",
       "    <tr>\n",
       "      <th>2</th>\n",
       "      <td>Sofy</td>\n",
       "      <td>13</td>\n",
       "      <td>Kavre</td>\n",
       "      <td>nan</td>\n",
       "      <td>Student</td>\n",
       "    </tr>\n",
       "    <tr>\n",
       "      <th>3</th>\n",
       "      <td>Bishal</td>\n",
       "      <td>24</td>\n",
       "      <td>Syangja</td>\n",
       "      <td>nan</td>\n",
       "      <td>Teacher</td>\n",
       "    </tr>\n",
       "    <tr>\n",
       "      <th>4</th>\n",
       "      <td>Gokul</td>\n",
       "      <td>28</td>\n",
       "      <td>Melamchi</td>\n",
       "      <td>nan</td>\n",
       "      <td>Teacher</td>\n",
       "    </tr>\n",
       "    <tr>\n",
       "      <th>5</th>\n",
       "      <td>Shyam</td>\n",
       "      <td>27</td>\n",
       "      <td>Dhading</td>\n",
       "      <td>nan</td>\n",
       "      <td>Teacher</td>\n",
       "    </tr>\n",
       "    <tr>\n",
       "      <th>6</th>\n",
       "      <td>Puru</td>\n",
       "      <td>34</td>\n",
       "      <td>baglung</td>\n",
       "      <td>nan</td>\n",
       "      <td>Teacher</td>\n",
       "    </tr>\n",
       "    <tr>\n",
       "      <th>7</th>\n",
       "      <td>Selu</td>\n",
       "      <td>12</td>\n",
       "      <td>Taplejung</td>\n",
       "      <td>nan</td>\n",
       "      <td>Student</td>\n",
       "    </tr>\n",
       "  </tbody>\n",
       "</table>\n",
       "</div>"
      ],
      "text/plain": [
       "        Name  Age       City  Gender     Role\n",
       "0     Keshav   25     Butwal     nan  Teacher\n",
       "1  Sadikshya   13    Khotang  Female  Student\n",
       "2       Sofy   13      Kavre     nan  Student\n",
       "3     Bishal   24    Syangja     nan  Teacher\n",
       "4      Gokul   28   Melamchi     nan  Teacher\n",
       "5      Shyam   27    Dhading     nan  Teacher\n",
       "6       Puru   34    baglung     nan  Teacher\n",
       "7       Selu   12  Taplejung     nan  Student"
      ]
     },
     "execution_count": 10,
     "metadata": {},
     "output_type": "execute_result"
    }
   ],
   "source": [
    "df['Role']=''\n",
    "df\n",
    "df.loc[df['Age']<20, 'Role'] = 'Student'\n",
    "df\n",
    "df.loc[df['Role']=='', 'Role'] = 'Teacher'\n",
    "df"
   ]
  },
  {
   "cell_type": "code",
   "execution_count": 11,
   "id": "cb24e350",
   "metadata": {},
   "outputs": [
    {
     "data": {
      "text/html": [
       "<div>\n",
       "<style scoped>\n",
       "    .dataframe tbody tr th:only-of-type {\n",
       "        vertical-align: middle;\n",
       "    }\n",
       "\n",
       "    .dataframe tbody tr th {\n",
       "        vertical-align: top;\n",
       "    }\n",
       "\n",
       "    .dataframe thead th {\n",
       "        text-align: right;\n",
       "    }\n",
       "</style>\n",
       "<table border=\"1\" class=\"dataframe\">\n",
       "  <thead>\n",
       "    <tr style=\"text-align: right;\">\n",
       "      <th></th>\n",
       "      <th>Age</th>\n",
       "    </tr>\n",
       "  </thead>\n",
       "  <tbody>\n",
       "    <tr>\n",
       "      <th>count</th>\n",
       "      <td>8.000000</td>\n",
       "    </tr>\n",
       "    <tr>\n",
       "      <th>mean</th>\n",
       "      <td>22.000000</td>\n",
       "    </tr>\n",
       "    <tr>\n",
       "      <th>std</th>\n",
       "      <td>8.280787</td>\n",
       "    </tr>\n",
       "    <tr>\n",
       "      <th>min</th>\n",
       "      <td>12.000000</td>\n",
       "    </tr>\n",
       "    <tr>\n",
       "      <th>25%</th>\n",
       "      <td>13.000000</td>\n",
       "    </tr>\n",
       "    <tr>\n",
       "      <th>50%</th>\n",
       "      <td>24.500000</td>\n",
       "    </tr>\n",
       "    <tr>\n",
       "      <th>75%</th>\n",
       "      <td>27.250000</td>\n",
       "    </tr>\n",
       "    <tr>\n",
       "      <th>max</th>\n",
       "      <td>34.000000</td>\n",
       "    </tr>\n",
       "  </tbody>\n",
       "</table>\n",
       "</div>"
      ],
      "text/plain": [
       "             Age\n",
       "count   8.000000\n",
       "mean   22.000000\n",
       "std     8.280787\n",
       "min    12.000000\n",
       "25%    13.000000\n",
       "50%    24.500000\n",
       "75%    27.250000\n",
       "max    34.000000"
      ]
     },
     "execution_count": 11,
     "metadata": {},
     "output_type": "execute_result"
    }
   ],
   "source": [
    "df.describe()"
   ]
  },
  {
   "cell_type": "code",
   "execution_count": 12,
   "id": "cff5ebbd",
   "metadata": {},
   "outputs": [
    {
     "data": {
      "text/html": [
       "<div>\n",
       "<style scoped>\n",
       "    .dataframe tbody tr th:only-of-type {\n",
       "        vertical-align: middle;\n",
       "    }\n",
       "\n",
       "    .dataframe tbody tr th {\n",
       "        vertical-align: top;\n",
       "    }\n",
       "\n",
       "    .dataframe thead th {\n",
       "        text-align: right;\n",
       "    }\n",
       "</style>\n",
       "<table border=\"1\" class=\"dataframe\">\n",
       "  <thead>\n",
       "    <tr style=\"text-align: right;\">\n",
       "      <th></th>\n",
       "      <th>Name</th>\n",
       "      <th>Age</th>\n",
       "      <th>City</th>\n",
       "      <th>Gender</th>\n",
       "      <th>Role</th>\n",
       "    </tr>\n",
       "  </thead>\n",
       "  <tbody>\n",
       "    <tr>\n",
       "      <th>7</th>\n",
       "      <td>Selu</td>\n",
       "      <td>12</td>\n",
       "      <td>Taplejung</td>\n",
       "      <td>nan</td>\n",
       "      <td>Student</td>\n",
       "    </tr>\n",
       "    <tr>\n",
       "      <th>1</th>\n",
       "      <td>Sadikshya</td>\n",
       "      <td>13</td>\n",
       "      <td>Khotang</td>\n",
       "      <td>Female</td>\n",
       "      <td>Student</td>\n",
       "    </tr>\n",
       "    <tr>\n",
       "      <th>2</th>\n",
       "      <td>Sofy</td>\n",
       "      <td>13</td>\n",
       "      <td>Kavre</td>\n",
       "      <td>nan</td>\n",
       "      <td>Student</td>\n",
       "    </tr>\n",
       "    <tr>\n",
       "      <th>3</th>\n",
       "      <td>Bishal</td>\n",
       "      <td>24</td>\n",
       "      <td>Syangja</td>\n",
       "      <td>nan</td>\n",
       "      <td>Teacher</td>\n",
       "    </tr>\n",
       "    <tr>\n",
       "      <th>0</th>\n",
       "      <td>Keshav</td>\n",
       "      <td>25</td>\n",
       "      <td>Butwal</td>\n",
       "      <td>nan</td>\n",
       "      <td>Teacher</td>\n",
       "    </tr>\n",
       "    <tr>\n",
       "      <th>5</th>\n",
       "      <td>Shyam</td>\n",
       "      <td>27</td>\n",
       "      <td>Dhading</td>\n",
       "      <td>nan</td>\n",
       "      <td>Teacher</td>\n",
       "    </tr>\n",
       "    <tr>\n",
       "      <th>4</th>\n",
       "      <td>Gokul</td>\n",
       "      <td>28</td>\n",
       "      <td>Melamchi</td>\n",
       "      <td>nan</td>\n",
       "      <td>Teacher</td>\n",
       "    </tr>\n",
       "    <tr>\n",
       "      <th>6</th>\n",
       "      <td>Puru</td>\n",
       "      <td>34</td>\n",
       "      <td>baglung</td>\n",
       "      <td>nan</td>\n",
       "      <td>Teacher</td>\n",
       "    </tr>\n",
       "  </tbody>\n",
       "</table>\n",
       "</div>"
      ],
      "text/plain": [
       "        Name  Age       City  Gender     Role\n",
       "7       Selu   12  Taplejung     nan  Student\n",
       "1  Sadikshya   13    Khotang  Female  Student\n",
       "2       Sofy   13      Kavre     nan  Student\n",
       "3     Bishal   24    Syangja     nan  Teacher\n",
       "0     Keshav   25     Butwal     nan  Teacher\n",
       "5      Shyam   27    Dhading     nan  Teacher\n",
       "4      Gokul   28   Melamchi     nan  Teacher\n",
       "6       Puru   34    baglung     nan  Teacher"
      ]
     },
     "execution_count": 12,
     "metadata": {},
     "output_type": "execute_result"
    }
   ],
   "source": [
    "sorted_df = df.sort_values(by=\"Age\")\n",
    "sorted_df"
   ]
  },
  {
   "cell_type": "code",
   "execution_count": 19,
   "id": "25b37c0b",
   "metadata": {},
   "outputs": [
    {
     "name": "stderr",
     "output_type": "stream",
     "text": [
      "C:\\Users\\imksa\\AppData\\Local\\Temp\\ipykernel_14340\\3294567966.py:10: FutureWarning: Setting an item of incompatible dtype is deprecated and will raise in a future error of pandas. Value '33' has dtype incompatible with int64, please explicitly cast to a compatible dtype first.\n",
      "  df.loc[df['Name']=='Alice', 'Age']='33'\n"
     ]
    },
    {
     "data": {
      "text/html": [
       "<div>\n",
       "<style scoped>\n",
       "    .dataframe tbody tr th:only-of-type {\n",
       "        vertical-align: middle;\n",
       "    }\n",
       "\n",
       "    .dataframe tbody tr th {\n",
       "        vertical-align: top;\n",
       "    }\n",
       "\n",
       "    .dataframe thead th {\n",
       "        text-align: right;\n",
       "    }\n",
       "</style>\n",
       "<table border=\"1\" class=\"dataframe\">\n",
       "  <thead>\n",
       "    <tr style=\"text-align: right;\">\n",
       "      <th></th>\n",
       "      <th>Name</th>\n",
       "      <th>Age</th>\n",
       "      <th>Salary</th>\n",
       "    </tr>\n",
       "  </thead>\n",
       "  <tbody>\n",
       "    <tr>\n",
       "      <th>0</th>\n",
       "      <td>John</td>\n",
       "      <td>23</td>\n",
       "      <td>50000</td>\n",
       "    </tr>\n",
       "    <tr>\n",
       "      <th>1</th>\n",
       "      <td>Jane</td>\n",
       "      <td>35</td>\n",
       "      <td>80000</td>\n",
       "    </tr>\n",
       "    <tr>\n",
       "      <th>2</th>\n",
       "      <td>Alice</td>\n",
       "      <td>33</td>\n",
       "      <td>65000</td>\n",
       "    </tr>\n",
       "    <tr>\n",
       "      <th>3</th>\n",
       "      <td>Bob</td>\n",
       "      <td>28</td>\n",
       "      <td>66000</td>\n",
       "    </tr>\n",
       "  </tbody>\n",
       "</table>\n",
       "</div>"
      ],
      "text/plain": [
       "    Name Age  Salary\n",
       "0   John  23   50000\n",
       "1   Jane  35   80000\n",
       "2  Alice  33   65000\n",
       "3    Bob  28   66000"
      ]
     },
     "execution_count": 19,
     "metadata": {},
     "output_type": "execute_result"
    }
   ],
   "source": [
    "data = {\n",
    "    'Name': ['John', 'Jane', 'Alice', 'Bob'],\n",
    "    'Age': [23, 35, 32, 28],\n",
    "    'Salary': [50000, 80000, 65000, 60000]\n",
    "}\n",
    "df = pd.DataFrame(data)\n",
    "# Change Alice's age to 33.\n",
    "# Increase Bob's salary by 10%.\n",
    "\n",
    "df.loc[df['Name']=='Alice', 'Age']='33'\n",
    "df.loc[df['Name']=='Bob', 'Salary'] *= 1.1\n",
    "df"
   ]
  },
  {
   "cell_type": "code",
   "execution_count": null,
   "id": "535c15fc",
   "metadata": {},
   "outputs": [],
   "source": []
  },
  {
   "cell_type": "code",
   "execution_count": null,
   "id": "9191fcb6",
   "metadata": {},
   "outputs": [],
   "source": []
  },
  {
   "cell_type": "code",
   "execution_count": null,
   "id": "9ab5b8b2",
   "metadata": {},
   "outputs": [],
   "source": []
  },
  {
   "cell_type": "code",
   "execution_count": null,
   "id": "31409f68",
   "metadata": {},
   "outputs": [],
   "source": []
  }
 ],
 "metadata": {
  "kernelspec": {
   "display_name": "Python 3 (ipykernel)",
   "language": "python",
   "name": "python3"
  },
  "language_info": {
   "codemirror_mode": {
    "name": "ipython",
    "version": 3
   },
   "file_extension": ".py",
   "mimetype": "text/x-python",
   "name": "python",
   "nbconvert_exporter": "python",
   "pygments_lexer": "ipython3",
   "version": "3.11.7"
  }
 },
 "nbformat": 4,
 "nbformat_minor": 5
}
